{
  "nbformat": 4,
  "nbformat_minor": 0,
  "metadata": {
    "colab": {
      "provenance": [],
      "collapsed_sections": [],
      "toc_visible": true
    },
    "kernelspec": {
      "name": "python3",
      "display_name": "Python 3"
    },
    "language_info": {
      "name": "python"
    }
  },
  "cells": [
    {
      "cell_type": "code",
      "execution_count": 1,
      "metadata": {
        "id": "6keGbLKz-Fxc"
      },
      "outputs": [],
      "source": [
        "#Description : Build a recommendation engine/system"
      ]
    },
    {
      "cell_type": "code",
      "source": [
        "#Import the libraries\n",
        "import numpy as np\n",
        "import pandas as pd\n",
        "from sklearn.metrics.pairwise import cosine_similarity\n",
        "from sklearn.feature_extraction.text import CountVectorizer"
      ],
      "metadata": {
        "id": "a8iuLrnO-YB0"
      },
      "execution_count": 2,
      "outputs": []
    },
    {
      "cell_type": "code",
      "source": [
        "#Load the data\n",
        "from google.colab import files\n",
        "files.upload()"
      ],
      "metadata": {
        "id": "HxrscBaQ_Ue5"
      },
      "execution_count": null,
      "outputs": []
    },
    {
      "cell_type": "code",
      "source": [
        "#Store the data\n",
        "df = pd.read_csv('books.csv', encoding='unicode_escape', error_bad_lines=False)"
      ],
      "metadata": {
        "id": "Hm4k62GJA7z7"
      },
      "execution_count": null,
      "outputs": []
    },
    {
      "cell_type": "code",
      "source": [
        "#Show the data\n",
        "df"
      ],
      "metadata": {
        "id": "kjgM_vFyBfRj"
      },
      "execution_count": null,
      "outputs": []
    },
    {
      "cell_type": "code",
      "source": [
        "#Create a list of columns to keep\n",
        "columns=['title', 'authors', 'publisher']"
      ],
      "metadata": {
        "id": "CLdPCxADEd-j"
      },
      "execution_count": 6,
      "outputs": []
    },
    {
      "cell_type": "code",
      "source": [
        "#Create a function to combine the important columns/features\n",
        "def combine_features(data):\n",
        "  features = []\n",
        "  for i in range (0, data.shape[0]):\n",
        "    features.append(data['title'][i] + ''+data['authors'][i]+''+ data['publisher'][i])\n",
        "\n",
        "  return features"
      ],
      "metadata": {
        "id": "Dz35J9-0FkYR"
      },
      "execution_count": 7,
      "outputs": []
    },
    {
      "cell_type": "code",
      "source": [
        "#Create a column to store combined features\n",
        "df['combined_features']=combine_features(df)\n",
        "#Show the data\n",
        "df"
      ],
      "metadata": {
        "id": "gAi6NARkGyO-"
      },
      "execution_count": null,
      "outputs": []
    },
    {
      "cell_type": "code",
      "source": [
        "#Convert the text from the new column to a matrix of word counts\n",
        "cm = CountVectorizer().fit_transform(df['combined_features'])"
      ],
      "metadata": {
        "id": "KHxCD3-QHUSQ"
      },
      "execution_count": 9,
      "outputs": []
    },
    {
      "cell_type": "code",
      "source": [
        "#Get the cosine similarity matrix from the count matrix\n",
        "cs = cosine_similarity(cm)\n",
        "#Print the scores\n",
        "print(cs)"
      ],
      "metadata": {
        "id": "NB9aUPw0IGuu"
      },
      "execution_count": null,
      "outputs": []
    },
    {
      "cell_type": "code",
      "source": [
        "#Get the title of the reader likes\n",
        "Title = df['title'][1]\n",
        "#Show the title\n",
        "Title"
      ],
      "metadata": {
        "id": "1SE21L3OIhty"
      },
      "execution_count": null,
      "outputs": []
    },
    {
      "cell_type": "code",
      "source": [
        "#Find the book id of the book that the user likes\n",
        "book_id = df[df.title == Title]['book_id'].values[0]\n",
        "#Show the book_id\n",
        "book_id"
      ],
      "metadata": {
        "id": "3usJIw2dJJWO"
      },
      "execution_count": null,
      "outputs": []
    },
    {
      "cell_type": "code",
      "source": [
        "#Create a list of tuples in the form (book_id, similarity score)\n",
        "scores = list(enumerate(cs[book_id]))\n",
        "print(scores)"
      ],
      "metadata": {
        "id": "cX3_OcGPTLop"
      },
      "execution_count": null,
      "outputs": []
    },
    {
      "cell_type": "code",
      "source": [
        "#Sort the list of similar books in descending order\n",
        "sorted_scores = sorted(scores, key = lambda x:x[1], reverse= True)\n",
        "sorted_scores = sorted_scores[1:]\n",
        "#Show the sorted scores\n",
        "sorted_scores"
      ],
      "metadata": {
        "id": "4e-rTB2LUaCp"
      },
      "execution_count": null,
      "outputs": []
    },
    {
      "cell_type": "code",
      "source": [
        "#Create a loop to print the first 5 books from the sorted list\n",
        "j = 0\n",
        "print('The 5 most recommended books to '+Title+' are:\\n')\n",
        "for item in sorted_scores:\n",
        "  book_title = df[df.book_id == item[0]['title'].values[0]]\n",
        "  print(j+1, book_title )\n",
        "  j = j+1\n",
        "  if j >= 5:\n",
        "    break\n"
      ],
      "metadata": {
        "id": "WJm9poDCVhVz"
      },
      "execution_count": null,
      "outputs": []
    }
  ]
}